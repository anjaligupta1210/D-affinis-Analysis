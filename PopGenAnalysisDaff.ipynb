{
 "cells": [
  {
   "cell_type": "markdown",
   "metadata": {},
   "source": [
    "This is Anjali's Notebook.\n",
    "\n",
    "I am doing Population genomics analysis of D. affinis ST, SR1, SR2\n",
    "\n",
    "Here is my script to cat reads, fastp, and align them to the genome"
   ]
  },
  {
   "cell_type": "markdown",
   "metadata": {},
   "source": [
    "First, I indexed the fasta file of the genome on cluster"
   ]
  },
  {
   "cell_type": "code",
   "execution_count": null,
   "metadata": {},
   "outputs": [],
   "source": [
    "module load bwa\n",
    "bwa index Daffinis_STfemale_v5.1.fasta"
   ]
  },
  {
   "cell_type": "markdown",
   "metadata": {},
   "source": [
    "Rob gave me the female ST Daff genome assembly"
   ]
  },
  {
   "cell_type": "markdown",
   "metadata": {},
   "source": [
    "This is the pipeline I used to cat reads, fastp them and align them to the genome on cluster.\n",
    "\n",
    "The pipeline script is called DaffPopGenMappingPipeline.sh and is on my cluster in /work/unckless/a948g501/PopGen/\n",
    "\n",
    "Below is the pipeline script: DaffPopGenMappingPipeline.sh "
   ]
  },
  {
   "cell_type": "code",
   "execution_count": null,
   "metadata": {},
   "outputs": [],
   "source": [
    "#!/bin/bash\n",
    "\n",
    "# Specify the directory containing your local files\n",
    "File_dir=\"/work/unckless/a948g501/PopGen/\"\n",
    "i=$1\n",
    "\n",
    "    # Copy files from remote server to local directory\n",
    "    scp a948g501@dtn.ku.edu:/resfs/GROUPS/MB/NIH0072614/Daffinis/RawReads/Popgen/pool_${i}_*.fq.gz ${File_dir} || { echo \"Error: Failed to copy files for pool $i\"; exit 1; }\n",
    "\n",
    "    chmod 777 \"${File_dir}pool_${i}_\"*.fq.gz\n",
    "\n",
    "    # Concatenate *1.fq.gz files\n",
    "    cat \"${File_dir}pool_${i}_\"*1.fq.gz > \"${File_dir}pool_${i}_1.fq.gz\"\n",
    "\n",
    "    # Concatenate *2.fq.gz files\n",
    "    cat \"${File_dir}pool_${i}_\"*2.fq.gz > \"${File_dir}pool_${i}_2.fq.gz\"\n",
    "\n",
    "    # Run fastp\n",
    "    module load conda\n",
    "    conda activate fastp\n",
    "    fastp -f 5 -l 5 -i \"${File_dir}pool_${i}_1.fq.gz\" -I \"${File_dir}pool_${i}_2.fq.gz\" -o \"${File_dir}fil.pool${i}_1.fq.gz\" -O \"${File_dir}fil.pool${i}_2.fq.gz\"\n",
    "    conda deactivate\n",
    "\n",
    "    # Remove concatenated reads - only keep filtered reads\n",
    "    rm \"${File_dir}pool_${i}_\"*.fq.gz \n",
    "\n",
    "    # Map to genome\n",
    "    module load bwa\n",
    "    module load samtools\n",
    "    bwa mem Daffinis_STfemale_v5.1.fasta \"${File_dir}fil.pool${i}_1.fq.gz\" \"${File_dir}fil.pool${i}_2.fq.gz\" | samtools view -hb -F 4 - | samtools sort - > \"${File_dir}pool${i}.bam\"\n",
    "    samtools index \"${File_dir}pool${i}.bam\" \n",
    "\n",
    "    # Remove reads\n",
    "    rm \"${File_dir}fil.pool${i}_\"*.fq.gz"
   ]
  },
  {
   "cell_type": "markdown",
   "metadata": {},
   "source": [
    "After creating the script, I had to make it executable"
   ]
  },
  {
   "cell_type": "code",
   "execution_count": null,
   "metadata": {},
   "outputs": [],
   "source": [
    "chmod +x DaffPopGenMappingPipeline.sh"
   ]
  },
  {
   "cell_type": "markdown",
   "metadata": {},
   "source": [
    "To run this script using sbatch on cluster, the following sbatch script was used.\n",
    "\n",
    "It is also in /work/unckless/a48g501/PopGen/\n",
    "\n",
    "It is called Script.sh"
   ]
  },
  {
   "cell_type": "code",
   "execution_count": null,
   "metadata": {},
   "outputs": [],
   "source": [
    "#!/bin/bash\n",
    "#SBATCH --nodes=1 --ntasks=1\n",
    "#SBATCH --time=6:00:00\n",
    "#SBATCH --mem=100GB\n",
    "#SBATCH --partition=sixhour\n",
    "#SBATCH -o sh.%j.out\n",
    "#SBATCH -e sh.%j.err\n",
    "\n",
    "echo \"i: $1\" >> sh.$SLURM_JOBID.err\n",
    "\n",
    "sh DaffPopGenMappingPipeline.sh $1"
   ]
  },
  {
   "cell_type": "markdown",
   "metadata": {},
   "source": [
    "To run the Script, I want to use an iterative loop such that each i is submitted as a different job on cluster.\n",
    "\n",
    "I used the following command to execute my script."
   ]
  },
  {
   "cell_type": "code",
   "execution_count": null,
   "metadata": {},
   "outputs": [],
   "source": [
    "for i in $(seq 1 91)\n",
    "do\n",
    "sbatch Script.sh $i\n",
    "done"
   ]
  },
  {
   "cell_type": "markdown",
   "metadata": {},
   "source": [
    "There is no file for i=73 or pool 73."
   ]
  },
  {
   "cell_type": "markdown",
   "metadata": {},
   "source": [
    "There are files for all other pools from i=1 to i=91"
   ]
  }
 ],
 "metadata": {
  "language_info": {
   "name": "python"
  }
 },
 "nbformat": 4,
 "nbformat_minor": 2
}
